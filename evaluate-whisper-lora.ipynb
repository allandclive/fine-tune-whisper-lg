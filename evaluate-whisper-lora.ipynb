{
	"cells": [
		{
			"cell_type": "markdown",
			"metadata": {},
			"source": [
				"# evaluate WER of whisper with PEFT LoRA\n",
				"\n",
				"[![](https://colab.research.google.com/assets/colab-badge.svg)](https://colab.research.google.com/github/phineas-pta/fine-tune-whisper-vi/blob/main/evaluate-whisper-lora.ipynb)"
			]
		},
		{
			"cell_type": "code",
			"execution_count": null,
			"metadata": {},
			"outputs": [],
			"source": [
				"from huggingface_hub import notebook_login\n",
				"notebook_login()\n",
				"# !huggingface-cli login --token=███"
			]
		},
		{
			"cell_type": "code",
			"execution_count": null,
			"metadata": {},
			"outputs": [],
			"source": [
				"# workaround for a bug in `datasets` package\n",
				"%pip uninstall -y cudf dask-cuda dask-cudf\n",
				"%pip install -q cudf-cu12 --extra-index-url=https://pypi.nvidia.com\n",
				"%pip install -qU 'datasets[audio]' accelerate transformers jiwer bitsandbytes peft\n",
				"# install then `import evaluate` throw error on kaggle"
			]
		},
		{
			"cell_type": "code",
			"execution_count": null,
			"metadata": {},
			"outputs": [],
			"source": [
				"import torch\n",
				"from peft import PeftModel, PeftConfig\n",
				"from transformers import WhisperForConditionalGeneration, WhisperFeatureExtractor, WhisperTokenizer\n",
				"import datasets as hugDS\n",
				"import jiwer\n",
				"# DO NOT USE `evaluate.evaluator`: buggy, cannot set language resulting very bad WER\n",
				"\n",
				"JIWER_TRANS = jiwer.Compose([\n",
				"\tjiwer.RemoveEmptyStrings(),\n",
				"\tjiwer.ToLowerCase(),\n",
				"\tjiwer.RemoveMultipleSpaces(),\n",
				"\tjiwer.Strip(),\n",
				"\tjiwer.RemovePunctuation(),\n",
				"\tjiwer.ReduceToListOfListOfWords(),\n",
				"])"
			]
		},
		{
			"cell_type": "code",
			"execution_count": null,
			"metadata": {},
			"outputs": [],
			"source": [
				"SAMPLING_RATE = 16_000\n",
				"def load_my_data(**kwargs):  # disable streaming coz lightweight\n",
				"\treturn hugDS.load_dataset(**kwargs, split=\"test\", num_proc=2, trust_remote_code=True).cast_column(\"audio\", hugDS.Audio(sampling_rate=SAMPLING_RATE))\n",
				"\n",
				"MY_DATA = hugDS.DatasetDict()\n",
				"MY_DATA[\"commonvoice\"] = load_my_data(path=\"mozilla-foundation/common_voice_16_1\", name=\"vi\",  ).select_columns([\"audio\", \"sentence\"])\n",
				"MY_DATA[\"fleurs\"]      = load_my_data(path=\"google/fleurs\",                        name=\"vi_vn\").select_columns([\"audio\", \"transcription\"]).rename_column(\"transcription\", \"sentence\")\n",
				"MY_DATA[\"vivos\"]       = load_my_data(path=\"vivos\"                                             ).select_columns([\"audio\", \"sentence\"])\n",
				"# samples count: 1326 + 857 + 760"
			]
		},
		{
			"cell_type": "code",
			"execution_count": null,
			"metadata": {},
			"outputs": [],
			"source": [
				"PEFT_MODEL_ID = \"daila/whisper-large-v3_LoRA_Common-Vi_WER\"  # @param [\"daila/whisper-large-v3_LoRA_Common-Vi_WER\", \"daila/whisper-large-v3_LoRA_vi\", \"vikas85/whisper-vlsp-peft\", \"vikas85/whisper-vlsp\", \"vikas85/whisper-fosd-peft\", \"vikas85/whisper-fleurs-peft-vi-2\", \"DuyTa/vi-whisper-medium-Lora\", \"vikas85/whisper-cv-fleur-v6\", \"vikas85/fleurs-vn-peft-v2\", \"Yuhthe/openai-whisper-small-vivos-LORA-colab\"]\n",
				"BASE_MODEL_ID = PeftConfig.from_pretrained(PEFT_MODEL_ID).base_model_name_or_path\n",
				"print(\"adapter to\", BASE_MODEL_ID)\n",
				"\n",
				"FEATURE_EXTRACTOR = WhisperFeatureExtractor.from_pretrained(BASE_MODEL_ID)\n",
				"TOKENIZER = WhisperTokenizer.from_pretrained(BASE_MODEL_ID, language=\"vi\", task=\"transcribe\")\n",
				"\n",
				"MODEL = PeftModel.from_pretrained(\n",
				"\tWhisperForConditionalGeneration.from_pretrained(BASE_MODEL_ID, load_in_8bit=True, device_map=\"auto\"),\n",
				"\tPEFT_MODEL_ID\n",
				").merge_and_unload(progressbar=True)  # reduce latency with LoRA"
			]
		},
		{
			"cell_type": "code",
			"execution_count": null,
			"metadata": {},
			"outputs": [],
			"source": [
				"@torch.autocast(device_type=\"cuda\")  # required by PEFT\n",
				"@torch.inference_mode()\n",
				"def predict(batch):\n",
				"\tinputs = FEATURE_EXTRACTOR(batch[\"audio\"][\"array\"], sampling_rate=SAMPLING_RATE, return_tensors=\"pt\").to(MODEL.device)\n",
				"\tpredicted_ids = MODEL.generate(**inputs)\n",
				"\tbatch[\"pred\"] = TOKENIZER.batch_decode(predicted_ids, skip_special_tokens=True)[0]\n",
				"\treturn batch\n",
				"\n",
				"MY_DATA_BIS = MY_DATA.map(predict, remove_columns=[\"audio\"])  # progress bar included"
			]
		},
		{
			"cell_type": "code",
			"execution_count": null,
			"metadata": {},
			"outputs": [],
			"source": [
				"for split in [\"commonvoice\", \"fleurs\", \"vivos\"]:\n",
				"\twer = 100 * jiwer.wer(\n",
				"\t\treference=MY_DATA_BIS[split][\"sentence\"], hypothesis=MY_DATA_BIS[split][\"pred\"],\n",
				"\t\treference_transform=JIWER_TRANS,          hypothesis_transform=JIWER_TRANS,\n",
				"\t)\n",
				"\tprint(f\"WER on {split} = {wer:.1f}%\")"
			]
		}
	],
	"metadata": {
		"accelerator": "GPU",
		"colab": {
			"gpuType": "T4",
			"private_outputs": true,
			"provenance": []
		},
		"kaggle": {
			"dataSources": [],
			"isGpuEnabled": true,
			"isInternetEnabled": true,
			"language": "python",
			"sourceType": "notebook"
		},
		"kernelspec": {
			"display_name": "Python 3",
			"language": "python",
			"name": "python3"
		},
		"language_info": {
			"name": "python"
		}
	},
	"nbformat": 4,
	"nbformat_minor": 0
}
